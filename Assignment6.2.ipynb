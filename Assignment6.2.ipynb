{
 "cells": [
  {
   "cell_type": "code",
   "execution_count": 6,
   "metadata": {},
   "outputs": [
    {
     "name": "stdout",
     "output_type": "stream",
     "text": [
      "Mean value is:\n",
      "5183.25\n"
     ]
    }
   ],
   "source": [
    "#Program to calculate mean\n",
    "\n",
    "import numpy\n",
    "\n",
    "my_array = numpy.array([ 3,21,98,203,17,9 ])\n",
    "\n",
    "print('Mean value is:')  \n",
    "print (numpy.var(my_array))                 "
   ]
  }
 ],
 "metadata": {
  "kernelspec": {
   "display_name": "Python 3",
   "language": "python",
   "name": "python3"
  },
  "language_info": {
   "codemirror_mode": {
    "name": "ipython",
    "version": 3
   },
   "file_extension": ".py",
   "mimetype": "text/x-python",
   "name": "python",
   "nbconvert_exporter": "python",
   "pygments_lexer": "ipython3",
   "version": "3.6.3"
  }
 },
 "nbformat": 4,
 "nbformat_minor": 2
}
